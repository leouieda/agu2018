{
 "cells": [
  {
   "cell_type": "markdown",
   "metadata": {},
   "source": [
    "# Generate nice looking figures for the poster"
   ]
  },
  {
   "cell_type": "code",
   "execution_count": 1,
   "metadata": {},
   "outputs": [],
   "source": [
    "from pathlib import Path\n",
    "from IPython.display import Image\n",
    "import matplotlib.pyplot as plt\n",
    "import cartopy.crs as ccrs\n",
    "import cartopy.feature as cfeature\n",
    "from cartopy.mpl.ticker import LongitudeFormatter, LatitudeFormatter\n",
    "import pandas as pd\n",
    "import xarray as xr"
   ]
  },
  {
   "cell_type": "markdown",
   "metadata": {},
   "source": [
    "Define the output path for all images."
   ]
  },
  {
   "cell_type": "code",
   "execution_count": 2,
   "metadata": {},
   "outputs": [],
   "source": [
    "outfolder = Path(\"../../figures\")\n",
    "outfolder.mkdir(exist_ok=True)\n",
    "datafolder = Path(\"../../data\")"
   ]
  },
  {
   "cell_type": "markdown",
   "metadata": {},
   "source": [
    "## Background image for the poster"
   ]
  },
  {
   "cell_type": "code",
   "execution_count": 3,
   "metadata": {},
   "outputs": [],
   "source": [
    "background = outfolder / \"poster_background.jpg\""
   ]
  },
  {
   "cell_type": "code",
   "execution_count": 6,
   "metadata": {},
   "outputs": [
    {
     "name": "stdout",
     "output_type": "stream",
     "text": [
      "6.6M\t../../figures/poster_background.jpg\n"
     ]
    },
    {
     "name": "stderr",
     "output_type": "stream",
     "text": [
      "gmt: /home/leo/miniconda3/lib/libcurl.so.4: no version information available (required by /home/leo/pkg/lib64/libgmt.so.6)\n",
      "gmt: /home/leo/miniconda3/lib/libcurl.so.4: no version information available (required by /home/leo/pkg/lib64/libgmt.so.6)\n",
      "gmt: /home/leo/miniconda3/lib/libcurl.so.4: no version information available (required by /home/leo/pkg/lib64/libgmt.so.6)\n",
      "gmt: /home/leo/miniconda3/lib/libcurl.so.4: no version information available (required by /home/leo/pkg/lib64/libgmt.so.6)\n"
     ]
    }
   ],
   "source": [
    "%%bash -s $background\n",
    "gmt begin\n",
    "gmt figure $1 jpg E120,A                                                                         \n",
    "gmt grdimage @earth_relief_01m -R-195/-126/10/50 -JM72i -Cocean -I+a60+nt0.5            \n",
    "gmt end\n",
    "du -h $1"
   ]
  },
  {
   "cell_type": "code",
   "execution_count": 7,
   "metadata": {},
   "outputs": [
    {
     "data": {
      "text/html": [
       "<img src=\"../../figures/poster_background.jpg\" width=\"800\"/>"
      ],
      "text/plain": [
       "<IPython.core.display.Image object>"
      ]
     },
     "execution_count": 7,
     "metadata": {},
     "output_type": "execute_result"
    }
   ],
   "source": [
    "Image(url=str(background), width=800, embed=False)"
   ]
  },
  {
   "cell_type": "markdown",
   "metadata": {},
   "source": [
    "## Synthetic data"
   ]
  },
  {
   "cell_type": "code",
   "execution_count": 4,
   "metadata": {},
   "outputs": [
    {
     "name": "stdout",
     "output_type": "stream",
     "text": [
      "96K\t../../figures/synthetic-san-andreas-2017.pdf\n",
      "4.0K\t../../figures/synthetic-san-andreas-2017-sample.pdf\n"
     ]
    },
    {
     "name": "stderr",
     "output_type": "stream",
     "text": [
      "bash: line 8: -B2: command not found\n",
      "gmt: /home/leo/miniconda3/lib/libcurl.so.4: no version information available (required by /home/leo/pkg/lib64/libgmt.so.6)\n",
      "gmt: /home/leo/miniconda3/lib/libcurl.so.4: no version information available (required by /home/leo/pkg/lib64/libgmt.so.6)\n",
      "gmt: /home/leo/miniconda3/lib/libcurl.so.4: no version information available (required by /home/leo/pkg/lib64/libgmt.so.6)\n",
      "gmt: /home/leo/miniconda3/lib/libcurl.so.4: no version information available (required by /home/leo/pkg/lib64/libgmt.so.6)\n",
      "gmt: /home/leo/miniconda3/lib/libcurl.so.4: no version information available (required by /home/leo/pkg/lib64/libgmt.so.6)\n",
      "psbasemap [ERROR]: Syntax error: Must specify at least one of -A, -B, -D, -L, -T\n",
      "gmt: /home/leo/miniconda3/lib/libcurl.so.4: no version information available (required by /home/leo/pkg/lib64/libgmt.so.6)\n",
      "gmt: /home/leo/miniconda3/lib/libcurl.so.4: no version information available (required by /home/leo/pkg/lib64/libgmt.so.6)\n",
      "gmt: /home/leo/miniconda3/lib/libcurl.so.4: no version information available (required by /home/leo/pkg/lib64/libgmt.so.6)\n",
      "gmt: /home/leo/miniconda3/lib/libcurl.so.4: no version information available (required by /home/leo/pkg/lib64/libgmt.so.6)\n",
      "gmt: /home/leo/miniconda3/lib/libcurl.so.4: no version information available (required by /home/leo/pkg/lib64/libgmt.so.6)\n",
      "psconvert [ERROR]: Unable to decode BoundingBox file ./psconvert_27101c.bb\n",
      "psconvert [ERROR]: Unable to decode BoundingBox file ./psconvert_27101c.bb\n"
     ]
    }
   ],
   "source": [
    "%%bash -s $outfolder $datafolder\n",
    "\n",
    "grid=$2/synthetic-san-andreas-2017.nc\n",
    "up=$grid?up_velocity\n",
    "east=$grid?east_velocity\n",
    "north=$grid?north_velocity\n",
    "samples=$2/synthetic-san-andreas-2017-samples.csv\n",
    "vector_color=\"#333333\"\n",
    "basemap_args=-BNE -B2 --MAP_FRAME_TYPE=plain --MAP_FRAME_PEN=thicker,white --MAP_TICK_PEN=white --FONT_ANNOT=white\n",
    "cpt=synthetic.cpt\n",
    "proj=-JM5i\n",
    "\n",
    "gmt begin\n",
    "\n",
    "    gmt makecpt -Cpolar -T-1/1 -Q > $cpt\n",
    "    \n",
    "    gmt figure $1/synthetic-san-andreas-2017-sample pdf,PNG A\n",
    "    gmt plot $samples -R$up $proj -Sc0.2c -C$cpt\n",
    "    gmt basemap $basemap_args\n",
    "\n",
    "    gmt figure $1/synthetic-san-andreas-2017 pdf,PNG A\n",
    "    gmt grdimage $up $proj -C$cpt -Q -I+n2\n",
    "    gmt grdvector $east $north -S200 -G$vector_color -W0.02c,$vector_color -Ix8 -Q0.1c+e\n",
    "    gmt basemap -BNE -B2 --MAP_FRAME_TYPE=plain --MAP_FRAME_PEN=thicker,white --MAP_TICK_PEN=white --FONT_ANNOT=white\n",
    "    \n",
    "gmt end\n",
    "rm $cpt\n",
    "du -h $1/*.pdf"
   ]
  },
  {
   "cell_type": "code",
   "execution_count": 5,
   "metadata": {},
   "outputs": [
    {
     "data": {
      "text/html": [
       "<img src=\"../../figures/synthetic-san-andreas-2017-samples.png\" width=\"500\"/>"
      ],
      "text/plain": [
       "<IPython.core.display.Image object>"
      ]
     },
     "execution_count": 5,
     "metadata": {},
     "output_type": "execute_result"
    }
   ],
   "source": [
    "Image(url=str(outfolder / \"synthetic-san-andreas-2017-samples.png\"), width=500, embed=False)"
   ]
  },
  {
   "cell_type": "code",
   "execution_count": null,
   "metadata": {},
   "outputs": [],
   "source": []
  },
  {
   "cell_type": "markdown",
   "metadata": {},
   "source": [
    "## Equations\n",
    "\n",
    "\n",
    "$$\n",
    "\\begin{bmatrix}\n",
    "G_{ee} & G_{en} & \\alpha\\ G_{ev} \\\\\n",
    "G_{ne} & G_{nn} & \\alpha\\ G_{nv} \\\\\n",
    "\\alpha\\ G_{ve} & \\alpha\\ G_{vn} & G_{vv} \\\\\n",
    "\\end{bmatrix}\n",
    "\\begin{bmatrix}\n",
    "f_e \\\\\n",
    "f_n \\\\\n",
    "f_v \\\\\n",
    "\\end{bmatrix}\n",
    "=\n",
    "\\begin{bmatrix}\n",
    "d_e \\\\\n",
    "d_n \\\\\n",
    "d_v \\\\\n",
    "\\end{bmatrix}\n",
    "$$"
   ]
  },
  {
   "cell_type": "code",
   "execution_count": null,
   "metadata": {},
   "outputs": [],
   "source": []
  }
 ],
 "metadata": {
  "kernelspec": {
   "display_name": "Python [conda env:agu2018]",
   "language": "python",
   "name": "conda-env-agu2018-py"
  },
  "language_info": {
   "codemirror_mode": {
    "name": "ipython",
    "version": 3
   },
   "file_extension": ".py",
   "mimetype": "text/x-python",
   "name": "python",
   "nbconvert_exporter": "python",
   "pygments_lexer": "ipython3",
   "version": "3.6.7"
  }
 },
 "nbformat": 4,
 "nbformat_minor": 2
}
