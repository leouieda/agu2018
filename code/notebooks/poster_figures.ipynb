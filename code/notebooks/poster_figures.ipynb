{
 "cells": [
  {
   "cell_type": "markdown",
   "metadata": {},
   "source": [
    "# Generate nice looking figures for the poster"
   ]
  },
  {
   "cell_type": "code",
   "execution_count": 1,
   "metadata": {},
   "outputs": [],
   "source": [
    "from pathlib import Path\n",
    "from IPython.display import Image\n",
    "import matplotlib.pyplot as plt\n",
    "import cartopy.crs as ccrs\n",
    "import cartopy.feature as cfeature\n",
    "from cartopy.mpl.ticker import LongitudeFormatter, LatitudeFormatter\n",
    "import pandas as pd\n",
    "import xarray as xr"
   ]
  },
  {
   "cell_type": "markdown",
   "metadata": {},
   "source": [
    "Define the output path for all images."
   ]
  },
  {
   "cell_type": "code",
   "execution_count": 2,
   "metadata": {},
   "outputs": [],
   "source": [
    "outfolder = Path(\"../../figures\")\n",
    "outfolder.mkdir(exist_ok=True)\n",
    "datafolder = Path(\"../../data\")"
   ]
  },
  {
   "cell_type": "markdown",
   "metadata": {},
   "source": [
    "## Synthetic data"
   ]
  },
  {
   "cell_type": "code",
   "execution_count": 3,
   "metadata": {},
   "outputs": [
    {
     "name": "stdout",
     "output_type": "stream",
     "text": [
      "200K\t../../figures/synthetic-san-andreas-2017-1c-diff.pdf\n",
      "320K\t../../figures/synthetic-san-andreas-2017-1c-diff.png\n",
      "224K\t../../figures/synthetic-san-andreas-2017-3c-diff.pdf\n",
      "324K\t../../figures/synthetic-san-andreas-2017-3c-diff.png\n",
      "96K\t../../figures/synthetic-san-andreas-2017.pdf\n",
      "552K\t../../figures/synthetic-san-andreas-2017.png\n",
      "96K\t../../figures/synthetic-san-andreas-2017-sample.pdf\n",
      "288K\t../../figures/synthetic-san-andreas-2017-sample.png\n"
     ]
    },
    {
     "name": "stderr",
     "output_type": "stream",
     "text": [
      "gmt: /home/leo/miniconda3/lib/libcurl.so.4: no version information available (required by /home/leo/pkg/lib64/libgmt.so.6)\n",
      "gmt: /home/leo/miniconda3/lib/libcurl.so.4: no version information available (required by /home/leo/pkg/lib64/libgmt.so.6)\n",
      "gmt: /home/leo/miniconda3/lib/libcurl.so.4: no version information available (required by /home/leo/pkg/lib64/libgmt.so.6)\n",
      "gmt: /home/leo/miniconda3/lib/libcurl.so.4: no version information available (required by /home/leo/pkg/lib64/libgmt.so.6)\n",
      "gmt: /home/leo/miniconda3/lib/libcurl.so.4: no version information available (required by /home/leo/pkg/lib64/libgmt.so.6)\n",
      "gmt: /home/leo/miniconda3/lib/libcurl.so.4: no version information available (required by /home/leo/pkg/lib64/libgmt.so.6)\n",
      "gmt: /home/leo/miniconda3/lib/libcurl.so.4: no version information available (required by /home/leo/pkg/lib64/libgmt.so.6)\n",
      "gmt: /home/leo/miniconda3/lib/libcurl.so.4: no version information available (required by /home/leo/pkg/lib64/libgmt.so.6)\n",
      "gmt: /home/leo/miniconda3/lib/libcurl.so.4: no version information available (required by /home/leo/pkg/lib64/libgmt.so.6)\n",
      "gmt: /home/leo/miniconda3/lib/libcurl.so.4: no version information available (required by /home/leo/pkg/lib64/libgmt.so.6)\n",
      "gmt: /home/leo/miniconda3/lib/libcurl.so.4: no version information available (required by /home/leo/pkg/lib64/libgmt.so.6)\n",
      "gmt: /home/leo/miniconda3/lib/libcurl.so.4: no version information available (required by /home/leo/pkg/lib64/libgmt.so.6)\n",
      "gmt: /home/leo/miniconda3/lib/libcurl.so.4: no version information available (required by /home/leo/pkg/lib64/libgmt.so.6)\n",
      "gmt: /home/leo/miniconda3/lib/libcurl.so.4: no version information available (required by /home/leo/pkg/lib64/libgmt.so.6)\n",
      "gmt: /home/leo/miniconda3/lib/libcurl.so.4: no version information available (required by /home/leo/pkg/lib64/libgmt.so.6)\n",
      "gmt: /home/leo/miniconda3/lib/libcurl.so.4: no version information available (required by /home/leo/pkg/lib64/libgmt.so.6)\n",
      "gmt: /home/leo/miniconda3/lib/libcurl.so.4: no version information available (required by /home/leo/pkg/lib64/libgmt.so.6)\n",
      "gmt: /home/leo/miniconda3/lib/libcurl.so.4: no version information available (required by /home/leo/pkg/lib64/libgmt.so.6)\n",
      "gmt: /home/leo/miniconda3/lib/libcurl.so.4: no version information available (required by /home/leo/pkg/lib64/libgmt.so.6)\n",
      "gmt: /home/leo/miniconda3/lib/libcurl.so.4: no version information available (required by /home/leo/pkg/lib64/libgmt.so.6)\n",
      "gmt: /home/leo/miniconda3/lib/libcurl.so.4: no version information available (required by /home/leo/pkg/lib64/libgmt.so.6)\n",
      "gmt: /home/leo/miniconda3/lib/libcurl.so.4: no version information available (required by /home/leo/pkg/lib64/libgmt.so.6)\n",
      "gmt: /home/leo/miniconda3/lib/libcurl.so.4: no version information available (required by /home/leo/pkg/lib64/libgmt.so.6)\n"
     ]
    }
   ],
   "source": [
    "%%bash -s $outfolder $datafolder\n",
    "\n",
    "grid=$2/synthetic-san-andreas-2017.nc\n",
    "diff=$2/synthetic-san-andreas-2017-3c-difference.nc\n",
    "diff1c=$2/synthetic-san-andreas-2017-1c-difference.nc\n",
    "samples=$2/synthetic-san-andreas-2017-samples.csv\n",
    "vector_color=\"#333333\"\n",
    "basemap_args=\"-BNE -B2 --MAP_FRAME_TYPE=plain --MAP_FRAME_PEN=thicker,white --MAP_TICK_PEN=white --FONT_ANNOT=white\"\n",
    "cpt=synthetic.cpt\n",
    "proj=M6i\n",
    "region=-123/-115/33/38\n",
    "table=synthetic.tmp\n",
    "\n",
    "gmt begin\n",
    "    gmt makecpt -Cpolar -T-1/1 -Q > $cpt\n",
    "    \n",
    "    gmt figure $1/synthetic-san-andreas-2017-sample pdf,PNG A\n",
    "    gmt coast -R$region -J$proj -G\"#666666\" \n",
    "    gmt plot $samples -i3,4,2 -Sc0.2c -C$cpt\n",
    "    tail -n +2 $samples | awk -F\",\" \"{print \\$4, \\$5, atan2(\\$1,\\$2)*180/3.1415926, sqrt(\\$1^2 + \\$2^2)}\" > $table\n",
    "    gmt plot $table -SV0.15c+e -G$vector_color -W1.2p,$vector_color -i0,1,2,3+s0.03 \n",
    "    gmt basemap $basemap_args\n",
    "    gmt colorbar -DjBL+w1.75i/0.1i+h+o0.2/0.3i -C$cpt -Bx0.5 -By+l\"mm/yr\" -I --MAP_TICK_PEN=white --FONT_ANNOT=white --MAP_FRAME_PEN=thinner,white\n",
    "    echo \"122.2W 33.75N 90 20\" | gmt plot -SV0.2c+e+jc -Gwhite -W1.2p,white --MAP_VECTOR_SHAPE=0.2 -i0,1,2,3+s0.03\n",
    "    echo \"121.5W 33.6N 20 mm/yr\" | gmt text -F+f12p,white+jCB -D0/0.07i\n",
    "\n",
    "    gmt figure $1/synthetic-san-andreas-2017 pdf,PNG A\n",
    "    gmt grdimage $grid?up_velocity -R$region -J$proj -C$cpt -Q -I+n2\n",
    "    gmt grdvector $grid?east_velocity $grid?north_velocity -S200 -G$vector_color -W0.8p,$vector_color -Ix8 -Q0.12c+e\n",
    "    gmt basemap $basemap_args\n",
    "    \n",
    "    gmt figure $1/synthetic-san-andreas-2017-3c-diff pdf,PNG A\n",
    "    gmt grdimage $diff?up_velocity -R$region -J$proj -C$cpt -Q -I+n2\n",
    "    gmt grdvector $diff?east_velocity $diff?north_velocity -S200 -G$vector_color -W0.8p,$vector_color -Ix3 -Q0.0c+e\n",
    "    gmt basemap $basemap_args\n",
    "    \n",
    "    gmt figure $1/synthetic-san-andreas-2017-1c-diff pdf,PNG A\n",
    "    gmt grdimage $diff1c?up_velocity -R$region -J$proj -C$cpt -Q -I+n2\n",
    "    gmt grdvector $diff1c?east_velocity $diff1c?north_velocity -S200 -G$vector_color -W0.8p,$vector_color -Ix3 -Q0.0c+e\n",
    "    gmt basemap $basemap_args\n",
    "gmt end\n",
    "\n",
    "rm $cpt $table\n",
    "\n",
    "du -h $1/synthetic-*"
   ]
  },
  {
   "cell_type": "code",
   "execution_count": 4,
   "metadata": {},
   "outputs": [
    {
     "data": {
      "text/html": [
       "<img src=\"../../figures/synthetic-san-andreas-2017-sample.png\" width=\"500\"/>"
      ],
      "text/plain": [
       "<IPython.core.display.Image object>"
      ]
     },
     "execution_count": 4,
     "metadata": {},
     "output_type": "execute_result"
    }
   ],
   "source": [
    "Image(url=str(outfolder / \"synthetic-san-andreas-2017-sample.png\"), width=500)"
   ]
  },
  {
   "cell_type": "code",
   "execution_count": 5,
   "metadata": {},
   "outputs": [
    {
     "data": {
      "text/html": [
       "<img src=\"../../figures/synthetic-san-andreas-2017-3c-diff.png\" width=\"500\"/>"
      ],
      "text/plain": [
       "<IPython.core.display.Image object>"
      ]
     },
     "execution_count": 5,
     "metadata": {},
     "output_type": "execute_result"
    }
   ],
   "source": [
    "Image(url=str(outfolder / \"synthetic-san-andreas-2017-3c-diff.png\"), width=500)"
   ]
  },
  {
   "cell_type": "code",
   "execution_count": 6,
   "metadata": {},
   "outputs": [
    {
     "data": {
      "text/html": [
       "<img src=\"../../figures/synthetic-san-andreas-2017-1c-diff.png\" width=\"500\"/>"
      ],
      "text/plain": [
       "<IPython.core.display.Image object>"
      ]
     },
     "execution_count": 6,
     "metadata": {},
     "output_type": "execute_result"
    }
   ],
   "source": [
    "Image(url=str(outfolder / \"synthetic-san-andreas-2017-1c-diff.png\"), width=500)"
   ]
  },
  {
   "cell_type": "code",
   "execution_count": 7,
   "metadata": {},
   "outputs": [
    {
     "data": {
      "text/html": [
       "<img src=\"../../figures/synthetic-san-andreas-2017.png\" width=\"500\"/>"
      ],
      "text/plain": [
       "<IPython.core.display.Image object>"
      ]
     },
     "execution_count": 7,
     "metadata": {},
     "output_type": "execute_result"
    }
   ],
   "source": [
    "Image(url=str(outfolder / \"synthetic-san-andreas-2017.png\"), width=500)"
   ]
  },
  {
   "cell_type": "markdown",
   "metadata": {},
   "source": [
    "## PBO data"
   ]
  },
  {
   "cell_type": "code",
   "execution_count": 8,
   "metadata": {},
   "outputs": [
    {
     "name": "stdout",
     "output_type": "stream",
     "text": [
      "112K\t../../figures/pbo-nam08-1c.pdf\n",
      "556K\t../../figures/pbo-nam08-1c.png\n",
      "112K\t../../figures/pbo-nam08-3c.pdf\n",
      "576K\t../../figures/pbo-nam08-3c.png\n",
      "136K\t../../figures/pbo-nam08-data.pdf\n",
      "472K\t../../figures/pbo-nam08-data.png\n"
     ]
    },
    {
     "name": "stderr",
     "output_type": "stream",
     "text": [
      "gmt: /home/leo/miniconda3/lib/libcurl.so.4: no version information available (required by /home/leo/pkg/lib64/libgmt.so.6)\n",
      "gmt: /home/leo/miniconda3/lib/libcurl.so.4: no version information available (required by /home/leo/pkg/lib64/libgmt.so.6)\n",
      "gmt: /home/leo/miniconda3/lib/libcurl.so.4: no version information available (required by /home/leo/pkg/lib64/libgmt.so.6)\n",
      "gmt: /home/leo/miniconda3/lib/libcurl.so.4: no version information available (required by /home/leo/pkg/lib64/libgmt.so.6)\n",
      "gmt: /home/leo/miniconda3/lib/libcurl.so.4: no version information available (required by /home/leo/pkg/lib64/libgmt.so.6)\n",
      "gmt: /home/leo/miniconda3/lib/libcurl.so.4: no version information available (required by /home/leo/pkg/lib64/libgmt.so.6)\n",
      "gmt: /home/leo/miniconda3/lib/libcurl.so.4: no version information available (required by /home/leo/pkg/lib64/libgmt.so.6)\n",
      "gmt: /home/leo/miniconda3/lib/libcurl.so.4: no version information available (required by /home/leo/pkg/lib64/libgmt.so.6)\n",
      "gmt: /home/leo/miniconda3/lib/libcurl.so.4: no version information available (required by /home/leo/pkg/lib64/libgmt.so.6)\n",
      "gmt: /home/leo/miniconda3/lib/libcurl.so.4: no version information available (required by /home/leo/pkg/lib64/libgmt.so.6)\n",
      "gmt: /home/leo/miniconda3/lib/libcurl.so.4: no version information available (required by /home/leo/pkg/lib64/libgmt.so.6)\n",
      "gmt: /home/leo/miniconda3/lib/libcurl.so.4: no version information available (required by /home/leo/pkg/lib64/libgmt.so.6)\n",
      "gmt: /home/leo/miniconda3/lib/libcurl.so.4: no version information available (required by /home/leo/pkg/lib64/libgmt.so.6)\n",
      "gmt: /home/leo/miniconda3/lib/libcurl.so.4: no version information available (required by /home/leo/pkg/lib64/libgmt.so.6)\n",
      "gmt: /home/leo/miniconda3/lib/libcurl.so.4: no version information available (required by /home/leo/pkg/lib64/libgmt.so.6)\n",
      "gmt: /home/leo/miniconda3/lib/libcurl.so.4: no version information available (required by /home/leo/pkg/lib64/libgmt.so.6)\n",
      "gmt: /home/leo/miniconda3/lib/libcurl.so.4: no version information available (required by /home/leo/pkg/lib64/libgmt.so.6)\n",
      "gmt: /home/leo/miniconda3/lib/libcurl.so.4: no version information available (required by /home/leo/pkg/lib64/libgmt.so.6)\n",
      "gmt: /home/leo/miniconda3/lib/libcurl.so.4: no version information available (required by /home/leo/pkg/lib64/libgmt.so.6)\n",
      "gmt: /home/leo/miniconda3/lib/libcurl.so.4: no version information available (required by /home/leo/pkg/lib64/libgmt.so.6)\n",
      "gmt: /home/leo/miniconda3/lib/libcurl.so.4: no version information available (required by /home/leo/pkg/lib64/libgmt.so.6)\n"
     ]
    }
   ],
   "source": [
    "%%bash -s $outfolder $datafolder\n",
    "\n",
    "data=$2/pbo-nam08-us-west-coast.csv\n",
    "grid3c=$2/pbo-nam08-3c-spline-grid.nc\n",
    "grid1c=$2/pbo-nam08-1c-spline-grid.nc\n",
    "vector_color=\"#333333\"\n",
    "basemap_args=\"-BNE -B2 --MAP_FRAME_TYPE=plain --MAP_FRAME_PEN=thicker\"\n",
    "cpt=pbo.cpt\n",
    "proj=M6i\n",
    "region=-125/-115/32.5/43.5\n",
    "table=pbo.tmp\n",
    "figname=$1/pbo-nam08\n",
    "figfmt=\"pdf,PNG A\"\n",
    "\n",
    "gmt begin\n",
    "    gmt makecpt -Cpolar -T-8/8 -Q > $cpt\n",
    "    \n",
    "    gmt figure $figname-data $figfmt\n",
    "    gmt coast -R$region -J$proj -G\"#666666\" -A10/0/1\n",
    "    gmt plot $data -i0,1,4 -Sc0.2c -C$cpt\n",
    "    gmt colorbar -DjBL+e+w1.75i/0.1i+h+o1/0.5i -C$cpt -Bx2 -By+l\"mm/yr\" --MAP_FRAME_PEN=thinner -I\n",
    "    tail -n +2 $data | awk -F\",\" \"{print \\$1, \\$2, atan2(\\$3, \\$4)*180/3.1415926, sqrt(\\$3^2 + \\$4^2)}\" > $table\n",
    "    gmt plot $table -SV0.1c+e -G$vector_color -W0.8p,$vector_color -i0,1,2,3+s0.03 \n",
    "    echo \"123.5W 33.75N 90 20\" | gmt plot -SV0.2c+e+jc -Gblack -W1.2p,black --MAP_VECTOR_SHAPE=0.2 -i0,1,2,3+s0.03\n",
    "    echo \"122.5W 33.6N 20 mm/yr\" | gmt text -F+f12p+jCB -D0/0.07i\n",
    "    gmt basemap $basemap_args\n",
    "    \n",
    "    gmt figure $figname-3c $figfmt\n",
    "    gmt grdimage $grid3c?up_velocity -R$region -J$proj -C$cpt -Q -I+n1\n",
    "    gmt grdvector $grid3c?east_velocity $grid3c?north_velocity -S200 -G$vector_color -W0.8p,$vector_color -Ix2 -Q0.1c+e\n",
    "    gmt coast -W1/1p,\"#666666\"\n",
    "    gmt basemap $basemap_args\n",
    "    \n",
    "    \n",
    "    gmt figure $figname-1c $figfmt\n",
    "    gmt grdimage $grid1c?up_velocity -R$region -J$proj -C$cpt -Q -I+n1\n",
    "    gmt grdvector $grid1c?east_velocity $grid1c?north_velocity -S200 -G$vector_color -W0.8p,$vector_color -Ix2 -Q0.1c+e\n",
    "    gmt coast -W1/1p,\"#666666\"\n",
    "    gmt basemap $basemap_args\n",
    "\n",
    "gmt end\n",
    "\n",
    "rm $cpt $table\n",
    "\n",
    "du -h $1/pbo-*"
   ]
  },
  {
   "cell_type": "code",
   "execution_count": 9,
   "metadata": {},
   "outputs": [
    {
     "data": {
      "text/html": [
       "<img src=\"../../figures/pbo-nam08-3c.png\" width=\"500\"/>"
      ],
      "text/plain": [
       "<IPython.core.display.Image object>"
      ]
     },
     "execution_count": 9,
     "metadata": {},
     "output_type": "execute_result"
    }
   ],
   "source": [
    "Image(url=str(outfolder / \"pbo-nam08-3c.png\"), width=500)"
   ]
  },
  {
   "cell_type": "code",
   "execution_count": 10,
   "metadata": {},
   "outputs": [
    {
     "data": {
      "text/html": [
       "<img src=\"../../figures/pbo-nam08-1c.png\" width=\"500\"/>"
      ],
      "text/plain": [
       "<IPython.core.display.Image object>"
      ]
     },
     "execution_count": 10,
     "metadata": {},
     "output_type": "execute_result"
    }
   ],
   "source": [
    "Image(url=str(outfolder / \"pbo-nam08-1c.png\"), width=500)"
   ]
  },
  {
   "cell_type": "code",
   "execution_count": 11,
   "metadata": {},
   "outputs": [
    {
     "data": {
      "text/html": [
       "<img src=\"../../figures/pbo-nam08-data.png\" width=\"500\"/>"
      ],
      "text/plain": [
       "<IPython.core.display.Image object>"
      ]
     },
     "execution_count": 11,
     "metadata": {},
     "output_type": "execute_result"
    }
   ],
   "source": [
    "Image(url=str(outfolder / \"pbo-nam08-data.png\"), width=500)"
   ]
  },
  {
   "cell_type": "markdown",
   "metadata": {},
   "source": [
    "## Equations\n",
    "\n",
    "\n",
    "$$\n",
    "\\begin{bmatrix}\n",
    "G_{ee} & G_{en} & \\alpha\\ G_{ev} \\\\\n",
    "G_{ne} & G_{nn} & \\alpha\\ G_{nv} \\\\\n",
    "\\alpha\\ G_{ve} & \\alpha\\ G_{vn} & G_{vv} \\\\\n",
    "\\end{bmatrix}\n",
    "\\begin{bmatrix}\n",
    "f_e \\\\\n",
    "f_n \\\\\n",
    "f_v \\\\\n",
    "\\end{bmatrix}\n",
    "=\n",
    "\\begin{bmatrix}\n",
    "d_e \\\\\n",
    "d_n \\\\\n",
    "d_v \\\\\n",
    "\\end{bmatrix}\n",
    "$$"
   ]
  },
  {
   "cell_type": "markdown",
   "metadata": {},
   "source": [
    "## Background image for the poster"
   ]
  },
  {
   "cell_type": "code",
   "execution_count": 3,
   "metadata": {},
   "outputs": [],
   "source": [
    "background = outfolder / \"poster_background.jpg\""
   ]
  },
  {
   "cell_type": "code",
   "execution_count": 6,
   "metadata": {},
   "outputs": [
    {
     "name": "stdout",
     "output_type": "stream",
     "text": [
      "6.6M\t../../figures/poster_background.jpg\n"
     ]
    },
    {
     "name": "stderr",
     "output_type": "stream",
     "text": [
      "gmt: /home/leo/miniconda3/lib/libcurl.so.4: no version information available (required by /home/leo/pkg/lib64/libgmt.so.6)\n",
      "gmt: /home/leo/miniconda3/lib/libcurl.so.4: no version information available (required by /home/leo/pkg/lib64/libgmt.so.6)\n",
      "gmt: /home/leo/miniconda3/lib/libcurl.so.4: no version information available (required by /home/leo/pkg/lib64/libgmt.so.6)\n",
      "gmt: /home/leo/miniconda3/lib/libcurl.so.4: no version information available (required by /home/leo/pkg/lib64/libgmt.so.6)\n"
     ]
    }
   ],
   "source": [
    "%%bash -s $background\n",
    "gmt begin\n",
    "gmt figure $1 jpg E120,A                                                                         \n",
    "gmt grdimage @earth_relief_01m -R-195/-126/10/50 -JM72i -Cocean -I+a60+nt0.5            \n",
    "gmt end\n",
    "du -h $1"
   ]
  },
  {
   "cell_type": "code",
   "execution_count": 7,
   "metadata": {},
   "outputs": [
    {
     "data": {
      "text/html": [
       "<img src=\"../../figures/poster_background.jpg\" width=\"800\"/>"
      ],
      "text/plain": [
       "<IPython.core.display.Image object>"
      ]
     },
     "execution_count": 7,
     "metadata": {},
     "output_type": "execute_result"
    }
   ],
   "source": [
    "Image(url=str(background), width=800, embed=False)"
   ]
  }
 ],
 "metadata": {
  "kernelspec": {
   "display_name": "Python [conda env:agu2018]",
   "language": "python",
   "name": "conda-env-agu2018-py"
  },
  "language_info": {
   "codemirror_mode": {
    "name": "ipython",
    "version": 3
   },
   "file_extension": ".py",
   "mimetype": "text/x-python",
   "name": "python",
   "nbconvert_exporter": "python",
   "pygments_lexer": "ipython3",
   "version": "3.6.7"
  }
 },
 "nbformat": 4,
 "nbformat_minor": 2
}
